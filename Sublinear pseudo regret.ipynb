{
 "cells": [
  {
   "cell_type": "code",
   "execution_count": 1,
   "id": "40d7d1b7",
   "metadata": {},
   "outputs": [
    {
     "name": "stdout",
     "output_type": "stream",
     "text": [
      "Requirement already satisfied: wandb in /Users/mengfanxu/opt/anaconda3/lib/python3.9/site-packages (0.16.6)\n",
      "Requirement already satisfied: sentry-sdk>=1.0.0 in /Users/mengfanxu/opt/anaconda3/lib/python3.9/site-packages (from wandb) (1.45.0)\n",
      "Requirement already satisfied: appdirs>=1.4.3 in /Users/mengfanxu/opt/anaconda3/lib/python3.9/site-packages (from wandb) (1.4.4)\n",
      "Requirement already satisfied: protobuf!=4.21.0,<5,>=3.19.0 in /Users/mengfanxu/opt/anaconda3/lib/python3.9/site-packages (from wandb) (3.19.1)\n",
      "Requirement already satisfied: psutil>=5.0.0 in /Users/mengfanxu/opt/anaconda3/lib/python3.9/site-packages (from wandb) (5.8.0)\n",
      "Requirement already satisfied: setproctitle in /Users/mengfanxu/opt/anaconda3/lib/python3.9/site-packages (from wandb) (1.3.3)\n",
      "Requirement already satisfied: docker-pycreds>=0.4.0 in /Users/mengfanxu/opt/anaconda3/lib/python3.9/site-packages (from wandb) (0.4.0)\n",
      "Requirement already satisfied: typing-extensions in /Users/mengfanxu/opt/anaconda3/lib/python3.9/site-packages (from wandb) (4.8.0)\n",
      "Requirement already satisfied: requests<3,>=2.0.0 in /Users/mengfanxu/opt/anaconda3/lib/python3.9/site-packages (from wandb) (2.27.1)\n",
      "Requirement already satisfied: GitPython!=3.1.29,>=1.0.0 in /Users/mengfanxu/opt/anaconda3/lib/python3.9/site-packages (from wandb) (3.1.43)\n",
      "Requirement already satisfied: Click!=8.0.0,>=7.1 in /Users/mengfanxu/opt/anaconda3/lib/python3.9/site-packages (from wandb) (8.0.4)\n",
      "Requirement already satisfied: setuptools in /Users/mengfanxu/opt/anaconda3/lib/python3.9/site-packages (from wandb) (61.2.0)\n",
      "Requirement already satisfied: PyYAML in /Users/mengfanxu/opt/anaconda3/lib/python3.9/site-packages (from wandb) (6.0)\n",
      "Requirement already satisfied: six>=1.4.0 in /Users/mengfanxu/opt/anaconda3/lib/python3.9/site-packages (from docker-pycreds>=0.4.0->wandb) (1.16.0)\n",
      "Requirement already satisfied: gitdb<5,>=4.0.1 in /Users/mengfanxu/opt/anaconda3/lib/python3.9/site-packages (from GitPython!=3.1.29,>=1.0.0->wandb) (4.0.11)\n",
      "Requirement already satisfied: smmap<6,>=3.0.1 in /Users/mengfanxu/opt/anaconda3/lib/python3.9/site-packages (from gitdb<5,>=4.0.1->GitPython!=3.1.29,>=1.0.0->wandb) (5.0.1)\n",
      "Requirement already satisfied: urllib3<1.27,>=1.21.1 in /Users/mengfanxu/opt/anaconda3/lib/python3.9/site-packages (from requests<3,>=2.0.0->wandb) (1.26.18)\n",
      "Requirement already satisfied: idna<4,>=2.5 in /Users/mengfanxu/opt/anaconda3/lib/python3.9/site-packages (from requests<3,>=2.0.0->wandb) (3.3)\n",
      "Requirement already satisfied: charset-normalizer~=2.0.0 in /Users/mengfanxu/opt/anaconda3/lib/python3.9/site-packages (from requests<3,>=2.0.0->wandb) (2.0.4)\n",
      "Requirement already satisfied: certifi>=2017.4.17 in /Users/mengfanxu/opt/anaconda3/lib/python3.9/site-packages (from requests<3,>=2.0.0->wandb) (2022.12.7)\n"
     ]
    }
   ],
   "source": [
    "!pip install wandb"
   ]
  },
  {
   "cell_type": "code",
   "execution_count": 2,
   "id": "e2f07529",
   "metadata": {},
   "outputs": [
    {
     "name": "stdout",
     "output_type": "stream",
     "text": [
      "Requirement already satisfied: cvxpy in /Users/mengfanxu/opt/anaconda3/lib/python3.9/site-packages (1.4.3)\n",
      "Requirement already satisfied: numpy>=1.15 in /Users/mengfanxu/opt/anaconda3/lib/python3.9/site-packages (from cvxpy) (1.21.5)\n",
      "Requirement already satisfied: pybind11 in /Users/mengfanxu/opt/anaconda3/lib/python3.9/site-packages (from cvxpy) (2.12.0)\n",
      "Requirement already satisfied: scipy>=1.1.0 in /Users/mengfanxu/opt/anaconda3/lib/python3.9/site-packages (from cvxpy) (1.7.3)\n",
      "Requirement already satisfied: clarabel>=0.5.0 in /Users/mengfanxu/opt/anaconda3/lib/python3.9/site-packages (from cvxpy) (0.7.1)\n",
      "Requirement already satisfied: scs>=3.0 in /Users/mengfanxu/opt/anaconda3/lib/python3.9/site-packages (from cvxpy) (3.2.4.post1)\n",
      "Requirement already satisfied: osqp>=0.6.2 in /Users/mengfanxu/opt/anaconda3/lib/python3.9/site-packages (from cvxpy) (0.6.5)\n",
      "Requirement already satisfied: ecos>=2 in /Users/mengfanxu/opt/anaconda3/lib/python3.9/site-packages (from cvxpy) (2.0.13)\n",
      "Requirement already satisfied: qdldl in /Users/mengfanxu/opt/anaconda3/lib/python3.9/site-packages (from osqp>=0.6.2->cvxpy) (0.1.7.post2)\n"
     ]
    }
   ],
   "source": [
    "!pip install cvxpy"
   ]
  },
  {
   "cell_type": "code",
   "execution_count": 3,
   "id": "7f522b15",
   "metadata": {},
   "outputs": [],
   "source": [
    "import wandb\n",
    "import torch\n",
    "import numpy as np\n",
    "import networkx as nx\n",
    "import agent as fba\n",
    "import env as fbe\n",
    "from PIL import Image\n",
    "from tqdm import tqdm\n",
    "from matplotlib import cm\n",
    "from torch.utils.data import DataLoader"
   ]
  },
  {
   "cell_type": "code",
   "execution_count": 24,
   "id": "d84442ac",
   "metadata": {},
   "outputs": [],
   "source": [
    "def main(config):\n",
    "    use_cuda = torch.cuda.is_available()\n",
    "    config['device'] = torch.device(\"cuda\" if use_cuda else \"cpu\")\n",
    "    rng = torch.Generator(device=config['device'])\n",
    "    rng.manual_seed(config['seed'])\n",
    "\n",
    "    # Create dataset\n",
    "    env = config['env'].split('-')[0]\n",
    "    if env == \"HomoBandit\":\n",
    "        train_data = fbe.HomoBandit(\n",
    "            config['horizon'], \n",
    "            config['n_agents'], \n",
    "            config['n_arms'],\n",
    "            np.random.default_rng(\n",
    "                int(config['env'].split('-')[-1]) # seed of the loss tensor\n",
    "            )\n",
    "        )\n",
    "    elif env == 'HalfActBandit':\n",
    "        train_data = fbe.StoActBandit(\n",
    "            config['horizon'], \n",
    "            config['n_agents'], \n",
    "            config['n_arms'],\n",
    "            config['n_agents']//2,               # activation size\n",
    "            np.random.default_rng(\n",
    "                int(config['env'].split('-')[1]) # seed of the loss tensor\n",
    "            )\n",
    "        )\n",
    "    elif env == 'HalfFixActBandit':\n",
    "        train_data = fbe.FixActBandit(\n",
    "            config['horizon'], \n",
    "            config['n_agents'], \n",
    "            config['n_arms'],\n",
    "            config['n_agents']//2,               # activation size\n",
    "            np.random.default_rng(\n",
    "                int(config['env'].split('-')[1]) # seed of the loss tensor\n",
    "            )\n",
    "        )\n",
    "    else:\n",
    "        raise NotImplementedError(\"The \"+env+\" environment has not been implemented.\")\n",
    "    \n",
    "    train_loader = DataLoader(\n",
    "        train_data,\n",
    "        batch_size=1, \n",
    "        shuffle=False\n",
    "    )\n",
    "    # compute cumulative loss of the best arm in hindsight\n",
    "    best_cumu_loss = train_data.cumloss_of_best_arm()\n",
    "\n",
    "    # Specify communcation network\n",
    "    network = config['network'].split('-')[0]\n",
    "    if network == 'COMPLETE':\n",
    "        graph = nx.complete_graph(config['n_agents'])\n",
    "    elif network == 'PATH':\n",
    "        graph = nx.path_graph(config['n_agents'])\n",
    "    elif network == 'NONE':\n",
    "        graph = nx.from_numpy_array(\n",
    "            np.zeros([\n",
    "                config['n_agents'], config['n_agents']\n",
    "            ])\n",
    "        )\n",
    "    elif network == 'GRID':\n",
    "        graph = nx.grid_graph([\n",
    "            int(np.sqrt(config['n_agents'])),\n",
    "            int(np.sqrt(config['n_agents']))\n",
    "        ])\n",
    "    elif network == 'RGG':\n",
    "        r = float(config['network'].split('-')[1])\n",
    "        # threshold = np.sqrt(np.log(config['n_agents']) ** 1.1 / config['n_agents'])\n",
    "        # if r  < threshold:\n",
    "        #     raise ValueError(\n",
    "        #         'Please choose r >= ' + str(threshold)\n",
    "        #     )\n",
    "        graph = nx.random_geometric_graph(\n",
    "            config['n_agents'], \n",
    "            r,\n",
    "            seed=int(\n",
    "                config['network'].split('-')[-1]\n",
    "            )\n",
    "        )\n",
    "    elif network == 'ER':\n",
    "        p = float(config['network'].split('-')[1])\n",
    "        graph = nx.fast_gnp_random_graph(\n",
    "            config['n_agents'], \n",
    "            p,\n",
    "            seed=int(\n",
    "                config['network'].split('-')[-1]\n",
    "            )\n",
    "        )\n",
    "    else:\n",
    "        raise NotImplementedError(\"The \"+config['network']+\" network has not been implemented.\")\n",
    "    comm_net = fba.CommNet(graph)\n",
    "\n",
    "    # Specify the gossip\n",
    "    if config['network'] == 'NONE':\n",
    "        gossip_numpy = np.eye(config['n_agents'])\n",
    "        spectral_gap = 0\n",
    "    elif config['gossip'] == 'MaxDegree':\n",
    "        gossip_numpy, spectral_gap = comm_net.max_deg_gossip(spectral_gap=True)\n",
    "    elif config['gossip'] == 'Fast-SDP':\n",
    "        gossip_numpy, spectral_gap = comm_net.fast_gossip('SDP', spectral_gap=True)\n",
    "    else:\n",
    "        raise NotImplementedError(\"The \"+config['gossip']+\" mechanism has not been implemented.\")\n",
    "    gossip = torch.tensor(gossip_numpy, device=config['device'])\n",
    "\n",
    "    # Create FedExp3\n",
    "    agent = fba.FedExp3(\n",
    "        config['n_agents'],\n",
    "        config['n_arms'],\n",
    "        gossip, \n",
    "        config['lr'],\n",
    "        expr_scheduler=fba.cube_root_scheduler(config['gamma']),\n",
    "        device=config['device']\n",
    "    )\n",
    "\n",
    "    \n",
    "    # Initialize WANDB\n",
    "    if config['WANDB']:\n",
    "        wandb.init(\n",
    "            project=config['proj'], \n",
    "            reinit=True, \n",
    "            config=config, \n",
    "            job_type=config['jobtype']\n",
    "        )\n",
    "        prob_imgs = []\n",
    "\n",
    "    cumu_loss = 0\n",
    "    pseudo_loss = 0\n",
    "    regret = []\n",
    "    pseudo_regret = []\n",
    "    rounds = len(train_loader)\n",
    "    for i, loss_matrix in tqdm(enumerate(train_loader), total=rounds):\n",
    "        L_t = torch.squeeze(loss_matrix, 0).to(config['device'])\n",
    "        # make actions\n",
    "        actions, probs = agent.action(rng)\n",
    "        sub_optimal = sum(actions==1)\n",
    "        #print(actions)\n",
    "        sub_count = torch.count_nonzero(actions, dim = 0)[1].item()\n",
    "        pseudo_loss +=sub_count/config['n_agents']\n",
    "        pseudo_regret.append(pseudo_loss)\n",
    "                          \n",
    "        # compute cumulative losses\n",
    "        cumu_loss += torch.matmul(\n",
    "            torch.mean(L_t, dim=0),\n",
    "            torch.transpose(actions.float(), 1, 0)\n",
    "        )\n",
    "        # update\n",
    "        agent.update(L_t, actions, probs)\n",
    "        \n",
    "        regret.append(torch.mean(cumu_loss).item() - best_cumu_loss[i])\n",
    "        #print(regret)\n",
    "\n",
    "        # logging\n",
    "        if config['WANDB']:\n",
    "            wandb.log({\n",
    "                'mean': torch.mean(cumu_loss).item() - best_cumu_loss[i],\n",
    "                'max': torch.max(cumu_loss).item()- best_cumu_loss[i],\n",
    "            })\n",
    "            if i % (config['horizon'] // 10) == 0:\n",
    "                prob_imgs.append(\n",
    "                    wandb.Image(\n",
    "                        Image.fromarray(\n",
    "                            np.uint8(cm.viridis(probs.tolist())*255)\n",
    "                        )\n",
    "                    )\n",
    "                )\n",
    "\n",
    "    if config['WANDB']:\n",
    "        wandb.log({\"visual_probs\": prob_imgs})\n",
    "        wandb.log({'mixing_time': spectral_gap ** (-1/3)})\n",
    "        wandb.finish()\n",
    "    \n",
    "    return regret, pseudo_regret\n"
   ]
  },
  {
   "cell_type": "code",
   "execution_count": 25,
   "id": "7cb98b52",
   "metadata": {},
   "outputs": [
    {
     "name": "stderr",
     "output_type": "stream",
     "text": [
      "100%|███████████████████████████████████| 2000/2000 [00:00<00:00, 2340.89it/s]\n",
      "100%|███████████████████████████████████| 2000/2000 [00:00<00:00, 2094.74it/s]\n",
      "100%|███████████████████████████████████| 2000/2000 [00:00<00:00, 2241.19it/s]\n",
      "100%|███████████████████████████████████| 2000/2000 [00:00<00:00, 2454.80it/s]\n",
      "100%|███████████████████████████████████| 2000/2000 [00:00<00:00, 2194.21it/s]\n",
      "100%|███████████████████████████████████| 2000/2000 [00:00<00:00, 2390.06it/s]\n",
      "100%|███████████████████████████████████| 2000/2000 [00:00<00:00, 2185.87it/s]\n",
      "100%|███████████████████████████████████| 2000/2000 [00:00<00:00, 2312.20it/s]\n",
      "100%|███████████████████████████████████| 2000/2000 [00:00<00:00, 2297.73it/s]\n",
      "100%|███████████████████████████████████| 2000/2000 [00:00<00:00, 2294.88it/s]\n",
      "100%|███████████████████████████████████| 2000/2000 [00:00<00:00, 2187.27it/s]\n",
      "100%|███████████████████████████████████| 2000/2000 [00:00<00:00, 2003.28it/s]\n",
      "100%|███████████████████████████████████| 2000/2000 [00:00<00:00, 2042.86it/s]\n",
      "100%|███████████████████████████████████| 2000/2000 [00:00<00:00, 2076.83it/s]\n",
      "100%|███████████████████████████████████| 2000/2000 [00:00<00:00, 2155.95it/s]\n",
      "100%|███████████████████████████████████| 2000/2000 [00:00<00:00, 2100.20it/s]\n",
      "100%|███████████████████████████████████| 2000/2000 [00:00<00:00, 2133.98it/s]\n",
      "100%|███████████████████████████████████| 2000/2000 [00:01<00:00, 1986.25it/s]\n",
      "100%|███████████████████████████████████| 2000/2000 [00:00<00:00, 2063.38it/s]\n",
      "100%|███████████████████████████████████| 2000/2000 [00:00<00:00, 2237.79it/s]\n"
     ]
    }
   ],
   "source": [
    "#FedEXP3 - Large M without shuffling; theorem 8 \n",
    "itr = 20\n",
    "regret_list = []\n",
    "pseudo_regret_list = []\n",
    "for i in np.arange(itr):\n",
    "    config = dict(\n",
    "    proj = 'FedExp3',\n",
    "    env = 'HalfActBandit-5',\n",
    "    network = 'PATH',\n",
    "    gossip = 'MaxDegree',\n",
    "    n_agents = 30,\n",
    "    n_arms = 2,                 \n",
    "    horizon = 2000,                  \n",
    "    lr = .1,\n",
    "    gamma = 0.01,\n",
    "    seed = 0,\n",
    "    WANDB = False,\n",
    "    jobtype = 'test'\n",
    ")\n",
    "    regret_fedexp3, pseudo_regret_fedexp3 = main(config)\n",
    "    regret_list.append(regret_fedexp3)\n",
    "    pseudo_regret_list.append(pseudo_regret_fedexp3)"
   ]
  },
  {
   "cell_type": "code",
   "execution_count": 27,
   "id": "064bafd5",
   "metadata": {},
   "outputs": [
    {
     "data": {
      "image/png": "[encoded data removed]",
      "text/plain": [
       "<Figure size 640x480 with 1 Axes>"
      ]
     },
     "metadata": {},
     "output_type": "display_data"
    }
   ],
   "source": [
    "regret_fedexp3 = np.mean(pseudo_regret_list, 0)\n",
    "x_axis = np.arange(len(regret_fedexp3))\n",
    "plot_data_o = np.transpose(np.array(regret_fedexp3)).reshape((2000,1))\n",
    "import matplotlib as mpl\n",
    "import matplotlib.pyplot as plt\n",
    "mpl.rcParams.update(mpl.rcParamsDefault)\n",
    "\n",
    "plt.plot(x_axis,plot_data_o,  label='FedEXP3 on Path Graph',color='m')\n",
    "\n",
    "\n",
    "plt.xlabel('Time Horizon')\n",
    "plt.ylabel('Cumulative Pseudo Regret')\n",
    "\n",
    "plt.legend()\n",
    "plt.show()"
   ]
  },
  {
   "cell_type": "code",
   "execution_count": 29,
   "id": "24c3ebe6",
   "metadata": {},
   "outputs": [
    {
     "data": {
      "image/png": "[encoded data removed]",
      "text/plain": [
       "<Figure size 640x480 with 1 Axes>"
      ]
     },
     "metadata": {},
     "output_type": "display_data"
    },
    {
     "data": {
      "text/plain": [
       "array([2.05321008])"
      ]
     },
     "execution_count": 29,
     "metadata": {},
     "output_type": "execute_result"
    }
   ],
   "source": [
    "plt.plot(np.log(x_axis[1:]),np.log(plot_data_o[1:]),  label='FedEXP3 on Path Graph',color='m')\n",
    "\n",
    "\n",
    "plt.xlabel('Time Horizon')\n",
    "plt.ylabel('Log Cumulative Pseudo Regret')\n",
    "\n",
    "plt.legend()\n",
    "plt.show()\n",
    "\n",
    "X= np.reshape(np.log(x_axis[1:]),(len(x_axis[1:]),-1))\n",
    "y = np.log(plot_data_o[1:])\n",
    "from sklearn.linear_model import LinearRegression\n",
    "reg = LinearRegression().fit(X, y)\n",
    "reg.coef_\n",
    "reg.intercept_"
   ]
  },
  {
   "cell_type": "code",
   "execution_count": 36,
   "id": "301d5e7e",
   "metadata": {},
   "outputs": [
    {
     "name": "stdout",
     "output_type": "stream",
     "text": [
      "                            OLS Regression Results                            \n",
      "==============================================================================\n",
      "Dep. Variable:                      y   R-squared:                       0.419\n",
      "Model:                            OLS   Adj. R-squared:                  0.419\n",
      "Method:                 Least Squares   F-statistic:                     1441.\n",
      "Date:                Mon, 22 Apr 2024   Prob (F-statistic):          6.94e-238\n",
      "Time:                        23:46:50   Log-Likelihood:                 1508.2\n",
      "No. Observations:                1999   AIC:                            -3012.\n",
      "Df Residuals:                    1997   BIC:                            -3001.\n",
      "Df Model:                           1                                         \n",
      "Covariance Type:            nonrobust                                         \n",
      "==============================================================================\n",
      "                 coef    std err          t      P>|t|      [0.025      0.975]\n",
      "------------------------------------------------------------------------------\n",
      "const          2.0532      0.017    119.695      0.000       2.020       2.087\n",
      "x1             0.0975      0.003     37.963      0.000       0.092       0.103\n",
      "==============================================================================\n",
      "Omnibus:                     3012.534   Durbin-Watson:                   0.009\n",
      "Prob(Omnibus):                  0.000   Jarque-Bera (JB):          1307048.061\n",
      "Skew:                          -9.065   Prob(JB):                         0.00\n",
      "Kurtosis:                     126.950   Cond. No.                         46.0\n",
      "==============================================================================\n",
      "\n",
      "Notes:\n",
      "[1] Standard Errors assume that the covariance matrix of the errors is correctly specified.\n",
      "0.7819373491238909 0.1729060236858364\n"
     ]
    }
   ],
   "source": [
    "import statsmodels.api as sm\n",
    "X_train_lm = sm.add_constant(X)\n",
    "lm = sm.OLS(y, X_train_lm).fit()\n",
    "print(lm.summary())\n",
    "\n",
    "#since M = T^{1/3}\n",
    "#the total order in T is as follows\n",
    "#order = x1 + 1/3*const\n",
    "order = reg.coef_ + 1/3*reg.intercept_\n",
    "diff = np.abs(order - 2/3)/(2/3)\n",
    "print(order.item(),diff.item())\n"
   ]
  },
  {
   "cell_type": "code",
   "execution_count": 37,
   "id": "415479fd",
   "metadata": {},
   "outputs": [],
   "source": [
    "#problem instance \n",
    "T = 2000\n",
    "eta = 8*(2000**(-2/15))\n",
    "M = int(2000**(2/15)) \n",
    "d = eta*M/8\n",
    "epsilon = np.sqrt(1/eta)*(M**2)*(T**(-1/3))"
   ]
  },
  {
   "cell_type": "code",
   "execution_count": 38,
   "id": "73ff9ad8",
   "metadata": {},
   "outputs": [
    {
     "data": {
      "text/plain": [
       "(2, 0.72592652049981, 0.18631178740808066)"
      ]
     },
     "execution_count": 38,
     "metadata": {},
     "output_type": "execute_result"
    }
   ],
   "source": [
    "M, d, epsilon"
   ]
  },
  {
   "cell_type": "code",
   "execution_count": 40,
   "id": "a434117e",
   "metadata": {},
   "outputs": [],
   "source": [
    "#shuffling bandits \n",
    "import os\n",
    "import datetime\n",
    "import numpy as np\n",
    "import pandas as pd\n",
    "from torch.utils.data import Dataset\n",
    "class HomoBandit_0(Dataset):\n",
    "    def __init__(self, n_epochs, n_agents, n_arms, rng) -> None:\n",
    "        super().__init__()\n",
    "        global_means = [1/2, 1/2]\n",
    "        L = np.array(\n",
    "            [rng.binomial(1, p, size=(n_epochs, n_agents)) for p in global_means], \n",
    "            dtype=np.float32\n",
    "        )\n",
    "        self.data = np.transpose(L, (1, 2, 0))\n",
    "    def __len__(self):\n",
    "        return self.data.shape[0]\n",
    "    def __getitem__(self, idx):\n",
    "        return self.data[idx]\n",
    "\n",
    "    def cumloss_of_best_arm(self):\n",
    "        true_loss = np.mean(self.data, axis=1)\n",
    "        cum_losses = np.cumsum(true_loss, axis=0)\n",
    "        best_arm = np.argmin(cum_losses[-1,])\n",
    "        return cum_losses[:,best_arm]\n",
    "        \n",
    "\n",
    "class StoShuActBandit(HomoBandit_0):\n",
    "    def __init__(self, n_epochs, n_agents, n_arms, activate_size, rng) -> None:\n",
    "        super().__init__(n_epochs, n_agents, n_arms, rng)\n",
    "        period = int(d)+1\n",
    "        print(period)\n",
    "        for t in range(n_epochs):\n",
    "            if t%period== 0:\n",
    "                special_idx = rng.choice(\n",
    "                int((n_agents)/4)+1,\n",
    "                size=1,\n",
    "                replace=False\n",
    "            )\n",
    "                means = [1/2,1/2+epsilon]\n",
    "                L_1 = np.array(\n",
    "            [rng.binomial(1, p, size=(period, 1)) for p in means], \n",
    "            dtype=np.float32\n",
    "        )\n",
    "                self.data[t:(t+period),special_idx,:] = np.transpose(L_1, (1, 2, 0))\n",
    "            non_selected_idx = rng.choice(\n",
    "                n_agents,\n",
    "                size=n_agents - activate_size,\n",
    "                replace=False\n",
    "            )\n",
    "            self.data[t,non_selected_idx,:] = 0"
   ]
  },
  {
   "cell_type": "code",
   "execution_count": 41,
   "id": "141b0966",
   "metadata": {},
   "outputs": [],
   "source": [
    "def main_shuffle(config):\n",
    "    use_cuda = torch.cuda.is_available()\n",
    "    config['device'] = torch.device(\"cuda\" if use_cuda else \"cpu\")\n",
    "    rng = torch.Generator(device=config['device'])\n",
    "    rng.manual_seed(config['seed'])\n",
    "\n",
    "    # Create dataset\n",
    "    env = config['env'].split('-')[0]\n",
    "    if env == \"HomoBandit\":\n",
    "        train_data = fbe.HomoBandit(\n",
    "            config['horizon'], \n",
    "            config['n_agents'], \n",
    "            config['n_arms'],\n",
    "            np.random.default_rng(\n",
    "                int(config['env'].split('-')[-1]) # seed of the loss tensor\n",
    "            )\n",
    "        )\n",
    "    elif env == 'HalfActBandit':\n",
    "        train_data = fbe.StoActBandit(\n",
    "            config['horizon'], \n",
    "            config['n_agents'], \n",
    "            config['n_arms'],\n",
    "            config['n_agents']//2,               # activation size\n",
    "            np.random.default_rng(\n",
    "                int(config['env'].split('-')[1]) # seed of the loss tensor\n",
    "            )\n",
    "        )\n",
    "    elif env == 'HalfFixActBandit':\n",
    "        train_data = fbe.FixActBandit(\n",
    "            config['horizon'], \n",
    "            config['n_agents'], \n",
    "            config['n_arms'],\n",
    "            config['n_agents']//2,               # activation size\n",
    "            np.random.default_rng(\n",
    "                int(config['env'].split('-')[1]) # seed of the loss tensor\n",
    "            )\n",
    "        )\n",
    "    elif env == 'StoShuActBandit':\n",
    "        train_data = StoShuActBandit(\n",
    "            config['horizon'], \n",
    "            config['n_agents'], \n",
    "            config['n_arms'],\n",
    "            config['n_agents']//2,               # activation size\n",
    "            np.random.default_rng(\n",
    "                int(config['env'].split('-')[1]) # seed of the loss tensor\n",
    "            )\n",
    "        )\n",
    "    else:\n",
    "        raise NotImplementedError(\"The \"+env+\" environment has not been implemented.\")\n",
    "    train_loader = DataLoader(\n",
    "        train_data,\n",
    "        batch_size=1, \n",
    "        shuffle=False\n",
    "    )\n",
    "    # compute cumulative loss of the best arm in hindsight\n",
    "    best_cumu_loss = train_data.cumloss_of_best_arm()\n",
    "\n",
    "    # Specify communcation network\n",
    "    network = config['network'].split('-')[0]\n",
    "    if network == 'COMPLETE':\n",
    "        graph = nx.complete_graph(config['n_agents'])\n",
    "    elif network == 'PATH':\n",
    "        graph = nx.path_graph(config['n_agents'])\n",
    "    elif network == 'NONE':\n",
    "        graph = nx.from_numpy_array(\n",
    "            np.zeros([\n",
    "                config['n_agents'], config['n_agents']\n",
    "            ])\n",
    "        )\n",
    "    elif network == 'GRID':\n",
    "        graph = nx.grid_graph([\n",
    "            int(np.sqrt(config['n_agents'])),\n",
    "            int(np.sqrt(config['n_agents']))\n",
    "        ])\n",
    "    elif network == 'RGG':\n",
    "        r = float(config['network'].split('-')[1])\n",
    "        # threshold = np.sqrt(np.log(config['n_agents']) ** 1.1 / config['n_agents'])\n",
    "        # if r  < threshold:\n",
    "        #     raise ValueError(\n",
    "        #         'Please choose r >= ' + str(threshold)\n",
    "        #     )\n",
    "        graph = nx.random_geometric_graph(\n",
    "            config['n_agents'], \n",
    "            r,\n",
    "            seed=int(\n",
    "                config['network'].split('-')[-1]\n",
    "            )\n",
    "        )\n",
    "    elif network == 'ER':\n",
    "        p = float(config['network'].split('-')[1])\n",
    "        graph = nx.fast_gnp_random_graph(\n",
    "            config['n_agents'], \n",
    "            p,\n",
    "            seed=int(\n",
    "                config['network'].split('-')[-1]\n",
    "            )\n",
    "        )\n",
    "    else:\n",
    "        raise NotImplementedError(\"The \"+config['network']+\" network has not been implemented.\")\n",
    "    comm_net = fba.CommNet(graph)\n",
    "\n",
    "    # Specify the gossip\n",
    "    if config['network'] == 'NONE':\n",
    "        gossip_numpy = np.eye(config['n_agents'])\n",
    "        spectral_gap = 0\n",
    "    elif config['gossip'] == 'MaxDegree':\n",
    "        gossip_numpy, spectral_gap = comm_net.max_deg_gossip(spectral_gap=True)\n",
    "    elif config['gossip'] == 'Fast-SDP':\n",
    "        gossip_numpy, spectral_gap = comm_net.fast_gossip('SDP', spectral_gap=True)\n",
    "    else:\n",
    "        raise NotImplementedError(\"The \"+config['gossip']+\" mechanism has not been implemented.\")\n",
    "    gossip = torch.tensor(gossip_numpy, device=config['device'])\n",
    "\n",
    "    # Create FedExp3\n",
    "    agent = fba.FedExp3(\n",
    "        config['n_agents'],\n",
    "        config['n_arms'],\n",
    "        gossip, \n",
    "        config['lr'],\n",
    "        expr_scheduler=fba.cube_root_scheduler(config['gamma']),\n",
    "        device=config['device']\n",
    "    )\n",
    "\n",
    "    \n",
    "    # Initialize WANDB\n",
    "    if config['WANDB']:\n",
    "        wandb.init(\n",
    "            project=config['proj'], \n",
    "            reinit=True, \n",
    "            config=config, \n",
    "            job_type=config['jobtype']\n",
    "        )\n",
    "        prob_imgs = []\n",
    "\n",
    "    cumu_loss = 0\n",
    "    pseudo_loss = 0\n",
    "    regret = []\n",
    "    pseudo_regret = []\n",
    "    rounds = len(train_loader)\n",
    "    for i, loss_matrix in tqdm(enumerate(train_loader), total=rounds):\n",
    "        L_t = torch.squeeze(loss_matrix, 0).to(config['device'])\n",
    "        # make actions\n",
    "        actions, probs = agent.action(rng)\n",
    "        \n",
    "        sub_count = torch.count_nonzero(actions, dim = 0)[1].item()\n",
    "        pseudo_loss +=sub_count/config['n_agents']\n",
    "        pseudo_regret.append(pseudo_loss)\n",
    "        # compute cumulative losses\n",
    "        #print(L_t.shape, torch.transpose(actions.float(), 1, 0).shape)\n",
    "        cumu_loss += torch.matmul(\n",
    "            torch.mean(L_t, dim=0),\n",
    "            torch.transpose(actions.float(), 1, 0)\n",
    "        )\n",
    "        # update\n",
    "        agent.update(L_t, actions, probs)\n",
    "        \n",
    "        regret.append(torch.mean(cumu_loss).item() - best_cumu_loss[i])\n",
    "        #print(regret)\n",
    "\n",
    "        # logging\n",
    "        if config['WANDB']:\n",
    "            wandb.log({\n",
    "                'mean': torch.mean(cumu_loss).item() - best_cumu_loss[i],\n",
    "                'max': torch.max(cumu_loss).item()- best_cumu_loss[i],\n",
    "            })\n",
    "            if i % (config['horizon'] // 10) == 0:\n",
    "                prob_imgs.append(\n",
    "                    wandb.Image(\n",
    "                        Image.fromarray(\n",
    "                            np.uint8(cm.viridis(probs.tolist())*255)\n",
    "                        )\n",
    "                    )\n",
    "                )\n",
    "\n",
    "    if config['WANDB']:\n",
    "        wandb.log({\"visual_probs\": prob_imgs})\n",
    "        wandb.log({'mixing_time': spectral_gap ** (-1/3)})\n",
    "        wandb.finish()\n",
    "    \n",
    "    return regret, pseudo_regret\n"
   ]
  },
  {
   "cell_type": "code",
   "execution_count": 42,
   "id": "f5c682bf",
   "metadata": {},
   "outputs": [
    {
     "name": "stdout",
     "output_type": "stream",
     "text": [
      "1\n"
     ]
    },
    {
     "name": "stderr",
     "output_type": "stream",
     "text": [
      "100%|███████████████████████████████████| 2000/2000 [00:00<00:00, 4022.16it/s]\n"
     ]
    },
    {
     "name": "stdout",
     "output_type": "stream",
     "text": [
      "1\n"
     ]
    },
    {
     "name": "stderr",
     "output_type": "stream",
     "text": [
      "100%|███████████████████████████████████| 2000/2000 [00:00<00:00, 3709.65it/s]\n"
     ]
    },
    {
     "name": "stdout",
     "output_type": "stream",
     "text": [
      "1\n"
     ]
    },
    {
     "name": "stderr",
     "output_type": "stream",
     "text": [
      "100%|███████████████████████████████████| 2000/2000 [00:00<00:00, 3464.91it/s]\n"
     ]
    },
    {
     "name": "stdout",
     "output_type": "stream",
     "text": [
      "1\n"
     ]
    },
    {
     "name": "stderr",
     "output_type": "stream",
     "text": [
      "100%|███████████████████████████████████| 2000/2000 [00:00<00:00, 3532.37it/s]\n"
     ]
    },
    {
     "name": "stdout",
     "output_type": "stream",
     "text": [
      "1\n"
     ]
    },
    {
     "name": "stderr",
     "output_type": "stream",
     "text": [
      "100%|███████████████████████████████████| 2000/2000 [00:00<00:00, 3837.97it/s]\n"
     ]
    },
    {
     "name": "stdout",
     "output_type": "stream",
     "text": [
      "1\n"
     ]
    },
    {
     "name": "stderr",
     "output_type": "stream",
     "text": [
      "100%|███████████████████████████████████| 2000/2000 [00:00<00:00, 4148.48it/s]\n"
     ]
    },
    {
     "name": "stdout",
     "output_type": "stream",
     "text": [
      "1\n"
     ]
    },
    {
     "name": "stderr",
     "output_type": "stream",
     "text": [
      "100%|███████████████████████████████████| 2000/2000 [00:00<00:00, 3674.40it/s]\n"
     ]
    },
    {
     "name": "stdout",
     "output_type": "stream",
     "text": [
      "1\n"
     ]
    },
    {
     "name": "stderr",
     "output_type": "stream",
     "text": [
      "100%|███████████████████████████████████| 2000/2000 [00:00<00:00, 4058.91it/s]\n"
     ]
    },
    {
     "name": "stdout",
     "output_type": "stream",
     "text": [
      "1\n"
     ]
    },
    {
     "name": "stderr",
     "output_type": "stream",
     "text": [
      "100%|███████████████████████████████████| 2000/2000 [00:00<00:00, 4118.83it/s]\n"
     ]
    },
    {
     "name": "stdout",
     "output_type": "stream",
     "text": [
      "1\n"
     ]
    },
    {
     "name": "stderr",
     "output_type": "stream",
     "text": [
      "100%|███████████████████████████████████| 2000/2000 [00:00<00:00, 4058.88it/s]\n"
     ]
    },
    {
     "name": "stdout",
     "output_type": "stream",
     "text": [
      "1\n"
     ]
    },
    {
     "name": "stderr",
     "output_type": "stream",
     "text": [
      "100%|███████████████████████████████████| 2000/2000 [00:00<00:00, 3561.14it/s]\n"
     ]
    },
    {
     "name": "stdout",
     "output_type": "stream",
     "text": [
      "1\n"
     ]
    },
    {
     "name": "stderr",
     "output_type": "stream",
     "text": [
      "100%|███████████████████████████████████| 2000/2000 [00:00<00:00, 3628.24it/s]\n"
     ]
    },
    {
     "name": "stdout",
     "output_type": "stream",
     "text": [
      "1\n"
     ]
    },
    {
     "name": "stderr",
     "output_type": "stream",
     "text": [
      "100%|███████████████████████████████████| 2000/2000 [00:00<00:00, 3645.52it/s]\n"
     ]
    },
    {
     "name": "stdout",
     "output_type": "stream",
     "text": [
      "1\n"
     ]
    },
    {
     "name": "stderr",
     "output_type": "stream",
     "text": [
      "100%|███████████████████████████████████| 2000/2000 [00:00<00:00, 4107.32it/s]\n"
     ]
    },
    {
     "name": "stdout",
     "output_type": "stream",
     "text": [
      "1\n"
     ]
    },
    {
     "name": "stderr",
     "output_type": "stream",
     "text": [
      "100%|███████████████████████████████████| 2000/2000 [00:00<00:00, 4065.24it/s]\n"
     ]
    },
    {
     "name": "stdout",
     "output_type": "stream",
     "text": [
      "1\n"
     ]
    },
    {
     "name": "stderr",
     "output_type": "stream",
     "text": [
      "100%|███████████████████████████████████| 2000/2000 [00:00<00:00, 4097.76it/s]\n"
     ]
    },
    {
     "name": "stdout",
     "output_type": "stream",
     "text": [
      "1\n"
     ]
    },
    {
     "name": "stderr",
     "output_type": "stream",
     "text": [
      "100%|███████████████████████████████████| 2000/2000 [00:00<00:00, 3725.65it/s]\n"
     ]
    },
    {
     "name": "stdout",
     "output_type": "stream",
     "text": [
      "1\n"
     ]
    },
    {
     "name": "stderr",
     "output_type": "stream",
     "text": [
      "100%|███████████████████████████████████| 2000/2000 [00:00<00:00, 3868.83it/s]\n"
     ]
    },
    {
     "name": "stdout",
     "output_type": "stream",
     "text": [
      "1\n"
     ]
    },
    {
     "name": "stderr",
     "output_type": "stream",
     "text": [
      "100%|███████████████████████████████████| 2000/2000 [00:00<00:00, 4108.14it/s]\n"
     ]
    },
    {
     "name": "stdout",
     "output_type": "stream",
     "text": [
      "1\n"
     ]
    },
    {
     "name": "stderr",
     "output_type": "stream",
     "text": [
      "100%|███████████████████████████████████| 2000/2000 [00:00<00:00, 3016.29it/s]\n"
     ]
    },
    {
     "name": "stdout",
     "output_type": "stream",
     "text": [
      "1\n"
     ]
    },
    {
     "name": "stderr",
     "output_type": "stream",
     "text": [
      "100%|███████████████████████████████████| 2000/2000 [00:00<00:00, 2928.57it/s]\n"
     ]
    },
    {
     "name": "stdout",
     "output_type": "stream",
     "text": [
      "1\n"
     ]
    },
    {
     "name": "stderr",
     "output_type": "stream",
     "text": [
      "100%|███████████████████████████████████| 2000/2000 [00:00<00:00, 3153.20it/s]\n"
     ]
    },
    {
     "name": "stdout",
     "output_type": "stream",
     "text": [
      "1\n"
     ]
    },
    {
     "name": "stderr",
     "output_type": "stream",
     "text": [
      "100%|███████████████████████████████████| 2000/2000 [00:00<00:00, 3502.14it/s]\n"
     ]
    },
    {
     "name": "stdout",
     "output_type": "stream",
     "text": [
      "1\n"
     ]
    },
    {
     "name": "stderr",
     "output_type": "stream",
     "text": [
      "100%|███████████████████████████████████| 2000/2000 [00:00<00:00, 3215.53it/s]\n"
     ]
    },
    {
     "name": "stdout",
     "output_type": "stream",
     "text": [
      "1\n"
     ]
    },
    {
     "name": "stderr",
     "output_type": "stream",
     "text": [
      "100%|███████████████████████████████████| 2000/2000 [00:00<00:00, 4298.88it/s]\n"
     ]
    },
    {
     "name": "stdout",
     "output_type": "stream",
     "text": [
      "1\n"
     ]
    },
    {
     "name": "stderr",
     "output_type": "stream",
     "text": [
      "100%|███████████████████████████████████| 2000/2000 [00:00<00:00, 3653.56it/s]\n"
     ]
    },
    {
     "name": "stdout",
     "output_type": "stream",
     "text": [
      "1\n"
     ]
    },
    {
     "name": "stderr",
     "output_type": "stream",
     "text": [
      "100%|███████████████████████████████████| 2000/2000 [00:00<00:00, 3715.75it/s]\n"
     ]
    },
    {
     "name": "stdout",
     "output_type": "stream",
     "text": [
      "1\n"
     ]
    },
    {
     "name": "stderr",
     "output_type": "stream",
     "text": [
      "100%|███████████████████████████████████| 2000/2000 [00:00<00:00, 3716.62it/s]\n"
     ]
    },
    {
     "name": "stdout",
     "output_type": "stream",
     "text": [
      "1\n"
     ]
    },
    {
     "name": "stderr",
     "output_type": "stream",
     "text": [
      "100%|███████████████████████████████████| 2000/2000 [00:00<00:00, 3912.56it/s]\n"
     ]
    },
    {
     "name": "stdout",
     "output_type": "stream",
     "text": [
      "1\n"
     ]
    },
    {
     "name": "stderr",
     "output_type": "stream",
     "text": [
      "100%|███████████████████████████████████| 2000/2000 [00:00<00:00, 3460.45it/s]\n"
     ]
    },
    {
     "name": "stdout",
     "output_type": "stream",
     "text": [
      "1\n"
     ]
    },
    {
     "name": "stderr",
     "output_type": "stream",
     "text": [
      "100%|███████████████████████████████████| 2000/2000 [00:00<00:00, 3227.62it/s]\n"
     ]
    },
    {
     "name": "stdout",
     "output_type": "stream",
     "text": [
      "1\n"
     ]
    },
    {
     "name": "stderr",
     "output_type": "stream",
     "text": [
      "100%|███████████████████████████████████| 2000/2000 [00:00<00:00, 3621.07it/s]\n"
     ]
    },
    {
     "name": "stdout",
     "output_type": "stream",
     "text": [
      "1\n"
     ]
    },
    {
     "name": "stderr",
     "output_type": "stream",
     "text": [
      "100%|███████████████████████████████████| 2000/2000 [00:00<00:00, 3998.69it/s]\n"
     ]
    },
    {
     "name": "stdout",
     "output_type": "stream",
     "text": [
      "1\n"
     ]
    },
    {
     "name": "stderr",
     "output_type": "stream",
     "text": [
      "100%|███████████████████████████████████| 2000/2000 [00:00<00:00, 4120.19it/s]\n"
     ]
    },
    {
     "name": "stdout",
     "output_type": "stream",
     "text": [
      "1\n"
     ]
    },
    {
     "name": "stderr",
     "output_type": "stream",
     "text": [
      "100%|███████████████████████████████████| 2000/2000 [00:00<00:00, 3983.84it/s]\n"
     ]
    },
    {
     "name": "stdout",
     "output_type": "stream",
     "text": [
      "1\n"
     ]
    },
    {
     "name": "stderr",
     "output_type": "stream",
     "text": [
      "100%|███████████████████████████████████| 2000/2000 [00:00<00:00, 3373.44it/s]\n"
     ]
    },
    {
     "name": "stdout",
     "output_type": "stream",
     "text": [
      "1\n"
     ]
    },
    {
     "name": "stderr",
     "output_type": "stream",
     "text": [
      "100%|███████████████████████████████████| 2000/2000 [00:00<00:00, 4394.59it/s]\n"
     ]
    },
    {
     "name": "stdout",
     "output_type": "stream",
     "text": [
      "1\n"
     ]
    },
    {
     "name": "stderr",
     "output_type": "stream",
     "text": [
      "100%|███████████████████████████████████| 2000/2000 [00:00<00:00, 4232.05it/s]\n"
     ]
    },
    {
     "name": "stdout",
     "output_type": "stream",
     "text": [
      "1\n"
     ]
    },
    {
     "name": "stderr",
     "output_type": "stream",
     "text": [
      "100%|███████████████████████████████████| 2000/2000 [00:00<00:00, 3893.08it/s]\n"
     ]
    },
    {
     "name": "stdout",
     "output_type": "stream",
     "text": [
      "1\n"
     ]
    },
    {
     "name": "stderr",
     "output_type": "stream",
     "text": [
      "100%|███████████████████████████████████| 2000/2000 [00:00<00:00, 3908.68it/s]\n"
     ]
    },
    {
     "name": "stdout",
     "output_type": "stream",
     "text": [
      "1\n"
     ]
    },
    {
     "name": "stderr",
     "output_type": "stream",
     "text": [
      "100%|███████████████████████████████████| 2000/2000 [00:00<00:00, 4123.13it/s]\n"
     ]
    },
    {
     "name": "stdout",
     "output_type": "stream",
     "text": [
      "1\n"
     ]
    },
    {
     "name": "stderr",
     "output_type": "stream",
     "text": [
      "100%|███████████████████████████████████| 2000/2000 [00:00<00:00, 4341.59it/s]\n"
     ]
    },
    {
     "name": "stdout",
     "output_type": "stream",
     "text": [
      "1\n"
     ]
    },
    {
     "name": "stderr",
     "output_type": "stream",
     "text": [
      "100%|███████████████████████████████████| 2000/2000 [00:00<00:00, 4240.98it/s]\n"
     ]
    },
    {
     "name": "stdout",
     "output_type": "stream",
     "text": [
      "1\n"
     ]
    },
    {
     "name": "stderr",
     "output_type": "stream",
     "text": [
      "100%|███████████████████████████████████| 2000/2000 [00:00<00:00, 4407.17it/s]\n"
     ]
    },
    {
     "name": "stdout",
     "output_type": "stream",
     "text": [
      "1\n"
     ]
    },
    {
     "name": "stderr",
     "output_type": "stream",
     "text": [
      "100%|███████████████████████████████████| 2000/2000 [00:00<00:00, 4333.89it/s]\n"
     ]
    },
    {
     "name": "stdout",
     "output_type": "stream",
     "text": [
      "1\n"
     ]
    },
    {
     "name": "stderr",
     "output_type": "stream",
     "text": [
      "100%|███████████████████████████████████| 2000/2000 [00:00<00:00, 4002.70it/s]\n"
     ]
    },
    {
     "name": "stdout",
     "output_type": "stream",
     "text": [
      "1\n"
     ]
    },
    {
     "name": "stderr",
     "output_type": "stream",
     "text": [
      "100%|███████████████████████████████████| 2000/2000 [00:00<00:00, 4379.97it/s]\n"
     ]
    },
    {
     "name": "stdout",
     "output_type": "stream",
     "text": [
      "1\n"
     ]
    },
    {
     "name": "stderr",
     "output_type": "stream",
     "text": [
      "100%|███████████████████████████████████| 2000/2000 [00:00<00:00, 4303.47it/s]\n"
     ]
    },
    {
     "name": "stdout",
     "output_type": "stream",
     "text": [
      "1\n"
     ]
    },
    {
     "name": "stderr",
     "output_type": "stream",
     "text": [
      "100%|███████████████████████████████████| 2000/2000 [00:00<00:00, 4202.18it/s]\n"
     ]
    },
    {
     "name": "stdout",
     "output_type": "stream",
     "text": [
      "1\n"
     ]
    },
    {
     "name": "stderr",
     "output_type": "stream",
     "text": [
      "100%|███████████████████████████████████| 2000/2000 [00:00<00:00, 4404.95it/s]\n"
     ]
    }
   ],
   "source": [
    "#FedEXP3 - smaller M with shuffling; theorem 9 \n",
    "itr = 50\n",
    "regret_list = []\n",
    "for i in np.arange(itr):\n",
    "    config = dict(\n",
    "    proj = 'FedExp3',\n",
    "    env = 'StoShuActBandit-5',\n",
    "    network = 'PATH',\n",
    "    gossip = 'MaxDegree',\n",
    "    n_agents = 10,\n",
    "    n_arms = 2,                 \n",
    "    horizon = 2000,                  \n",
    "    lr = .1,\n",
    "    gamma = 0.01,\n",
    "    seed = 0,\n",
    "    WANDB = False,\n",
    "    jobtype = 'test'\n",
    ")\n",
    "    placeholder, regret_fedexp3 = main_shuffle(config)\n",
    "    regret_list.append(regret_fedexp3)"
   ]
  },
  {
   "cell_type": "code",
   "execution_count": 44,
   "id": "07702eb0",
   "metadata": {},
   "outputs": [
    {
     "data": {
      "image/png": "[encoded data removed]",
      "text/plain": [
       "<Figure size 640x480 with 1 Axes>"
      ]
     },
     "metadata": {},
     "output_type": "display_data"
    },
    {
     "data": {
      "image/png": "[encoded data removed]",
      "text/plain": [
       "<Figure size 640x480 with 1 Axes>"
      ]
     },
     "metadata": {},
     "output_type": "display_data"
    },
    {
     "name": "stdout",
     "output_type": "stream",
     "text": [
      "[[0.92740067]] [-0.36329935]\n"
     ]
    }
   ],
   "source": [
    "regret_fedexp3 = np.mean(regret_list, 0)\n",
    "x_axis = np.arange(len(regret_fedexp3))\n",
    "plot_data_o = np.transpose(np.array(regret_fedexp3)).reshape((2000,1))\n",
    "import matplotlib as mpl\n",
    "import matplotlib.pyplot as plt\n",
    "mpl.rcParams.update(mpl.rcParamsDefault)\n",
    "\n",
    "plt.plot(x_axis,plot_data_o,  label='FedEXP3 on Path Graph',color='m')\n",
    "\n",
    "\n",
    "plt.xlabel('Time Horizon')\n",
    "plt.ylabel('Cumulative Pseudo Regret')\n",
    "\n",
    "plt.legend()\n",
    "plt.show()\n",
    "\n",
    "\n",
    "\n",
    "plt.plot(np.log(x_axis[20:]),np.log(plot_data_o[20:]),  label='FedEXP3 on Path Graph',color='m')\n",
    "\n",
    "\n",
    "plt.xlabel('Time Horizon')\n",
    "plt.ylabel('Log Cumulative Pseudo Regret')\n",
    "\n",
    "plt.legend()\n",
    "plt.show()\n",
    "\n",
    "X= np.reshape(np.log(x_axis[20:]),(len(x_axis[20:]),-1))\n",
    "y = np.log(plot_data_o[20:])\n",
    "from sklearn.linear_model import LinearRegression\n",
    "reg = LinearRegression().fit(X, y)\n",
    "print(reg.coef_,reg.intercept_)\n",
    "\n"
   ]
  },
  {
   "cell_type": "code",
   "execution_count": 45,
   "id": "c0290c03",
   "metadata": {},
   "outputs": [
    {
     "name": "stdout",
     "output_type": "stream",
     "text": [
      "0.927400674156996 0.39110101123549407\n"
     ]
    }
   ],
   "source": [
    "#since M is small and we treat it as constant \n",
    "#the total order in T is as follows\n",
    "#order = x1 \n",
    "order = reg.coef_ \n",
    "diff = np.abs(order - 2/3)/(2/3)\n",
    "print(order.item(),diff.item())"
   ]
  },
  {
   "cell_type": "code",
   "execution_count": 46,
   "id": "bf93549d",
   "metadata": {},
   "outputs": [
    {
     "name": "stdout",
     "output_type": "stream",
     "text": [
      "                            OLS Regression Results                            \n",
      "==============================================================================\n",
      "Dep. Variable:                      y   R-squared:                       0.990\n",
      "Model:                            OLS   Adj. R-squared:                  0.990\n",
      "Method:                 Least Squares   F-statistic:                 1.918e+05\n",
      "Date:                Mon, 22 Apr 2024   Prob (F-statistic):               0.00\n",
      "Time:                        23:48:42   Log-Likelihood:                 2105.7\n",
      "No. Observations:                1980   AIC:                            -4207.\n",
      "Df Residuals:                    1978   BIC:                            -4196.\n",
      "Df Model:                           1                                         \n",
      "Covariance Type:            nonrobust                                         \n",
      "==============================================================================\n",
      "                 coef    std err          t      P>|t|      [0.025      0.975]\n",
      "------------------------------------------------------------------------------\n",
      "const         -0.3633      0.014    -25.586      0.000      -0.391      -0.335\n",
      "x1             0.9274      0.002    437.934      0.000       0.923       0.932\n",
      "==============================================================================\n",
      "Omnibus:                       97.144   Durbin-Watson:                   0.000\n",
      "Prob(Omnibus):                  0.000   Jarque-Bera (JB):               65.529\n",
      "Skew:                          -0.329   Prob(JB):                     5.89e-15\n",
      "Kurtosis:                       2.400   Cond. No.                         51.8\n",
      "==============================================================================\n",
      "\n",
      "Notes:\n",
      "[1] Standard Errors assume that the covariance matrix of the errors is correctly specified.\n"
     ]
    }
   ],
   "source": [
    "import statsmodels.api as sm\n",
    "X_train_lm = sm.add_constant(X)\n",
    "lm = sm.OLS(y, X_train_lm).fit()\n",
    "print(lm.summary())\n"
   ]
  },
  {
   "cell_type": "code",
   "execution_count": 47,
   "id": "e23123b9",
   "metadata": {},
   "outputs": [],
   "source": [
    "#total order is as follow\n",
    "order = reg.coef_ + 2/15*reg.intercept_"
   ]
  },
  {
   "cell_type": "code",
   "execution_count": 48,
   "id": "9c038f1a",
   "metadata": {},
   "outputs": [
    {
     "data": {
      "text/plain": [
       "array([[0.87896076]])"
      ]
     },
     "execution_count": 48,
     "metadata": {},
     "output_type": "execute_result"
    }
   ],
   "source": [
    "order"
   ]
  },
  {
   "cell_type": "code",
   "execution_count": null,
   "id": "bc522eb3",
   "metadata": {},
   "outputs": [],
   "source": []
  }
 ],
 "metadata": {
  "kernelspec": {
   "display_name": "Python 3 (ipykernel)",
   "language": "python",
   "name": "python3"
  },
  "language_info": {
   "codemirror_mode": {
    "name": "ipython",
    "version": 3
   },
   "file_extension": ".py",
   "mimetype": "text/x-python",
   "name": "python",
   "nbconvert_exporter": "python",
   "pygments_lexer": "ipython3",
   "version": "3.9.12"
  }
 },
 "nbformat": 4,
 "nbformat_minor": 5
}
